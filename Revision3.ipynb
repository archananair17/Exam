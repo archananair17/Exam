{
  "nbformat": 4,
  "nbformat_minor": 0,
  "metadata": {
    "colab": {
      "provenance": [],
      "authorship_tag": "ABX9TyMfNKwDybtq1rdHDNITdjtv",
      "include_colab_link": true
    },
    "kernelspec": {
      "name": "python3",
      "display_name": "Python 3"
    },
    "language_info": {
      "name": "python"
    }
  },
  "cells": [
    {
      "cell_type": "markdown",
      "metadata": {
        "id": "view-in-github",
        "colab_type": "text"
      },
      "source": [
        "<a href=\"https://colab.research.google.com/github/archananair17/Exam/blob/main/Revision3.ipynb\" target=\"_parent\"><img src=\"https://colab.research.google.com/assets/colab-badge.svg\" alt=\"Open In Colab\"/></a>"
      ]
    },
    {
      "cell_type": "code",
      "execution_count": 9,
      "metadata": {
        "colab": {
          "base_uri": "https://localhost:8080/"
        },
        "id": "j0sAQWlMQuNv",
        "outputId": "2264c5f0-c5c4-42a7-9aee-d7a115d8ce1c"
      },
      "outputs": [
        {
          "output_type": "stream",
          "name": "stdout",
          "text": [
            "Enter HRA 100000\n",
            "Enter basic salary 50000\n",
            "Enter monthly rent 15000\n",
            "It should be eligible for a HRA exemption of Rs. 100000\n",
            "You are taxable\n",
            "tax:  22500.0\n"
          ]
        }
      ],
      "source": [
        "HRA=int(input(\"Enter HRA \"))\n",
        "sal=int(input(\"Enter basic salary \"))\n",
        "ar=int(input(\"Enter monthly rent \"))\n",
        "x=HRA\n",
        "y=ar*12-(sal*12*(10/100))\n",
        "z=sal*12*(50/100)\n",
        "a=[x,y,z]\n",
        "b=min(a)\n",
        "print(\"It should be eligible for a HRA exemption of Rs.\",b)\n",
        "if b>150000 or b==150000 :\n",
        "  k=(sal*12)+HRA-150000\n",
        "else :\n",
        "  k=(sal*12)+HRA-b\n",
        "if k>250000 and k<500000 :\n",
        "  print(\"You are taxable\")\n",
        "  v=k-250000\n",
        "  print(\"tax: \",v*5/100)\n",
        "elif k>500000 and k<750000 :\n",
        "  print(\"You are taxable\")\n",
        "  v=k-500000\n",
        "  print(\"tax: \",(v*10/100)+(250000*5/100))\n",
        "elif k>750000 and k<1000000 :\n",
        "  print(\"You are taxable\")\n",
        "  v=k-750000\n",
        "  print(\"tax: \",(v*15/100)+(250000*5/100)+(250000*10/100))\n",
        "elif k>1000000 and k<1250000 :\n",
        "  print(\"You are taxable\")\n",
        "  v=k-1000000\n",
        "  print(\"tax: \",(v*20/100)+(250000*5/100)+(250000*10/100)+(250000*15/100))\n",
        "elif k>1250000 and k<1500000 :\n",
        "  print(\"You are taxable\")\n",
        "  v=k-1250000\n",
        "  print(\"tax: \",(v*25/100)+(250000*5/100)+(250000*10/100)+(250000*15/100)+(250000*20/100))\n",
        "elif k>1500000 :\n",
        "  print(\"You are taxable\")\n",
        "  v=k-1500000\n",
        "  print(\"tax: \",(v*30/100)+(250000*5/100)+(250000*10/100)+(250000*15/100)+(250000*20/100)+(250000*25/100))\n",
        "else :\n",
        "  print(\"You are not taxable\")\n"
      ]
    },
    {
      "cell_type": "code",
      "source": [
        "HRA=int(input(\"Enter HRA \"))\n",
        "sal=int(input(\"Enter basic salary \"))\n",
        "ar=int(input(\"Enter monthly rent \"))\n",
        "x=HRA\n",
        "y=ar*12-(sal*12*(10/100))\n",
        "z=sal*12*(50/100)\n",
        "a=[x,y,z]\n",
        "b=min(a)\n",
        "print(\"It should be eligible for a HRA exemption of Rs.\",b)"
      ],
      "metadata": {
        "colab": {
          "base_uri": "https://localhost:8080/"
        },
        "id": "6HuH04x_Xi4R",
        "outputId": "35e1607c-a2f5-4693-d1a3-f339320c924e"
      },
      "execution_count": 6,
      "outputs": [
        {
          "output_type": "stream",
          "name": "stdout",
          "text": [
            "Enter HRA 100000\n",
            "Enter basic salary 50000\n",
            "Enter monthly rent 15000\n",
            "It should be eligible for a HRA exemption of Rs. 100000\n"
          ]
        }
      ]
    },
    {
      "cell_type": "code",
      "source": [],
      "metadata": {
        "id": "yRXa624OfFMm"
      },
      "execution_count": null,
      "outputs": []
    }
  ]
}