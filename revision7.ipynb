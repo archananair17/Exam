{
  "nbformat": 4,
  "nbformat_minor": 0,
  "metadata": {
    "colab": {
      "provenance": [],
      "authorship_tag": "ABX9TyOBtC6PS1m02EBPBB3drNiB",
      "include_colab_link": true
    },
    "kernelspec": {
      "name": "python3",
      "display_name": "Python 3"
    },
    "language_info": {
      "name": "python"
    }
  },
  "cells": [
    {
      "cell_type": "markdown",
      "metadata": {
        "id": "view-in-github",
        "colab_type": "text"
      },
      "source": [
        "<a href=\"https://colab.research.google.com/github/archananair17/Exam/blob/main/revision7.ipynb\" target=\"_parent\"><img src=\"https://colab.research.google.com/assets/colab-badge.svg\" alt=\"Open In Colab\"/></a>"
      ]
    },
    {
      "cell_type": "code",
      "execution_count": 3,
      "metadata": {
        "id": "SlOFcqOAMTaN"
      },
      "outputs": [],
      "source": [
        "def ARCHANA():\n",
        "  print(\"India is my country\")"
      ]
    },
    {
      "cell_type": "code",
      "source": [
        "ARCHANA()"
      ],
      "metadata": {
        "colab": {
          "base_uri": "https://localhost:8080/"
        },
        "id": "MmRF9rJtPk8c",
        "outputId": "f05c7ea0-19ca-4362-9144-270efef49973"
      },
      "execution_count": 4,
      "outputs": [
        {
          "output_type": "stream",
          "name": "stdout",
          "text": [
            "India is my country\n"
          ]
        }
      ]
    },
    {
      "cell_type": "code",
      "source": [
        "def archana(x):\n",
        "  print(\"Your roll number is \", x)"
      ],
      "metadata": {
        "id": "h3hslAfwPqFe"
      },
      "execution_count": 8,
      "outputs": []
    },
    {
      "cell_type": "code",
      "source": [
        "x=int(input(\"Enter your roll number\"))\n",
        "archana(x)"
      ],
      "metadata": {
        "colab": {
          "base_uri": "https://localhost:8080/"
        },
        "id": "7YlfaF0fQ4u-",
        "outputId": "0c6136cd-e0e1-4502-e1c7-5c5f29e30459"
      },
      "execution_count": 9,
      "outputs": [
        {
          "output_type": "stream",
          "name": "stdout",
          "text": [
            "Enter your roll number9060\n",
            "Your roll number is  9060\n"
          ]
        }
      ]
    },
    {
      "cell_type": "code",
      "source": [
        "def details(a,b,c,d):\n",
        "  print(\"Your name: \", a)\n",
        "  print(\"Your roll no: \", b)\n",
        "  print(\"Your mail id: \", c)\n",
        "  print(\"Your place: \", d)"
      ],
      "metadata": {
        "id": "RnGy3-nhQ66_"
      },
      "execution_count": 17,
      "outputs": []
    },
    {
      "cell_type": "code",
      "source": [
        "a=input(\"Enter your name \")\n",
        "b=int(input(\"Enter your roll number \"))\n",
        "c=input(\"Enter your email id \")\n",
        "d=input(\"Enter your place \")\n",
        "details(a,b,c,d)"
      ],
      "metadata": {
        "colab": {
          "base_uri": "https://localhost:8080/"
        },
        "id": "PvHRS8RBS3aa",
        "outputId": "5bf7e37f-cd95-4c8e-ea9d-b77207ec3fe7"
      },
      "execution_count": 18,
      "outputs": [
        {
          "output_type": "stream",
          "name": "stdout",
          "text": [
            "Enter your name Archana\n",
            "Enter your roll number 9060\n",
            "Enter your email id archananair9503@gmail.com\n",
            "Enter your place Ernakulam\n",
            "Your name:  Archana\n",
            "Your roll no:  9060\n",
            "Your mail id:  archananair9503@gmail.com\n",
            "Your place:  Ernakulam\n"
          ]
        }
      ]
    },
    {
      "cell_type": "code",
      "source": [
        "def first():\n",
        "  print(\"Your first name is\", x[0:7])\n",
        "def last():\n",
        "  print(\"Your last name is\",x[8:12])"
      ],
      "metadata": {
        "id": "KTmUii1nU118"
      },
      "execution_count": 25,
      "outputs": []
    },
    {
      "cell_type": "code",
      "source": [
        "x=input(\"Enter your full name: \")\n",
        "first()\n",
        "last()"
      ],
      "metadata": {
        "colab": {
          "base_uri": "https://localhost:8080/"
        },
        "id": "twNz_OElWMrt",
        "outputId": "d70e3f38-21cb-4a5e-d150-d7036556cb21"
      },
      "execution_count": 26,
      "outputs": [
        {
          "output_type": "stream",
          "name": "stdout",
          "text": [
            "Enter your full name: Archana Nair\n",
            "Your first name is Archana\n",
            "Your last name is Nair\n"
          ]
        }
      ]
    },
    {
      "cell_type": "code",
      "source": [
        "def first():\n",
        " name=x.split()\n",
        " for i in name:\n",
        "   print(i)"
      ],
      "metadata": {
        "id": "z-QPM8imYgNt"
      },
      "execution_count": 31,
      "outputs": []
    },
    {
      "cell_type": "code",
      "source": [
        "x=input(\"Your full name \")\n",
        "first()"
      ],
      "metadata": {
        "colab": {
          "base_uri": "https://localhost:8080/"
        },
        "id": "FgWe4xRFbsMg",
        "outputId": "561e5610-19c1-45c4-9c87-7ab8ca0d797a"
      },
      "execution_count": 33,
      "outputs": [
        {
          "output_type": "stream",
          "name": "stdout",
          "text": [
            "Your full name Archana Nair\n",
            "Archana\n",
            "Nair\n"
          ]
        }
      ]
    },
    {
      "cell_type": "code",
      "source": [
        "x=int(input(\"enter a number:\"))\n",
        "\n",
        "def swatch(a):\n",
        "  b=a//10\n",
        "  \n",
        "  print(b)\n",
        "swatch(x)"
      ],
      "metadata": {
        "colab": {
          "base_uri": "https://localhost:8080/"
        },
        "id": "qtInrI3ud8Lk",
        "outputId": "065e08fa-7e60-4e32-d9e9-ec6c1209ae5f"
      },
      "execution_count": 39,
      "outputs": [
        {
          "output_type": "stream",
          "name": "stdout",
          "text": [
            "enter a number:56\n",
            "5\n"
          ]
        }
      ]
    },
    {
      "cell_type": "code",
      "source": [
        "def  num(x,y):\n",
        "  x,y=y,x\n",
        "  print(\"Swapped numbers are\",x,y)"
      ],
      "metadata": {
        "id": "-JBK7OvWgKFs"
      },
      "execution_count": 40,
      "outputs": []
    },
    {
      "cell_type": "code",
      "source": [
        "x=int(input(\"Enter first number\"))\n",
        "y=int(input(\"Enter second number\"))\n",
        "num(x,y)"
      ],
      "metadata": {
        "colab": {
          "base_uri": "https://localhost:8080/"
        },
        "id": "0CGvnSZ6hUDs",
        "outputId": "1bce732f-6e2f-4ffa-bc74-f169abd4f478"
      },
      "execution_count": 41,
      "outputs": [
        {
          "output_type": "stream",
          "name": "stdout",
          "text": [
            "Enter first number90\n",
            "Enter second number12\n",
            "Swapped numbers are 12 90\n"
          ]
        }
      ]
    },
    {
      "cell_type": "code",
      "source": [
        "def reverse():\n",
        "  print(\"Swapped number is: \",x[1]+x[0])"
      ],
      "metadata": {
        "id": "pHdCiN7XhjTu"
      },
      "execution_count": 44,
      "outputs": []
    },
    {
      "cell_type": "code",
      "source": [
        "x=input(\"Enter a two digit number: \")\n",
        "reverse()"
      ],
      "metadata": {
        "colab": {
          "base_uri": "https://localhost:8080/"
        },
        "id": "4iQD9jf4jMj-",
        "outputId": "d00a883c-a721-4438-e86c-7c6faa05a979"
      },
      "execution_count": 45,
      "outputs": [
        {
          "output_type": "stream",
          "name": "stdout",
          "text": [
            "Enter a two digit number: 56\n",
            "Swapped number is:  65\n"
          ]
        }
      ]
    },
    {
      "cell_type": "code",
      "source": [],
      "metadata": {
        "id": "8psqVPgJjeY1"
      },
      "execution_count": null,
      "outputs": []
    }
  ]
}