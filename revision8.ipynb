{
  "nbformat": 4,
  "nbformat_minor": 0,
  "metadata": {
    "colab": {
      "provenance": [],
      "authorship_tag": "ABX9TyPExTbvfG06yqXmsUoIhZ0Y",
      "include_colab_link": true
    },
    "kernelspec": {
      "name": "python3",
      "display_name": "Python 3"
    },
    "language_info": {
      "name": "python"
    }
  },
  "cells": [
    {
      "cell_type": "markdown",
      "metadata": {
        "id": "view-in-github",
        "colab_type": "text"
      },
      "source": [
        "<a href=\"https://colab.research.google.com/github/archananair17/Exam/blob/main/revision8.ipynb\" target=\"_parent\"><img src=\"https://colab.research.google.com/assets/colab-badge.svg\" alt=\"Open In Colab\"/></a>"
      ]
    },
    {
      "cell_type": "code",
      "execution_count": 1,
      "metadata": {
        "id": "k1gLyAWCYFHe"
      },
      "outputs": [],
      "source": [
        "x = [5, 4, 7, 9, 3, 12, 18, 11, 79, 34]"
      ]
    },
    {
      "cell_type": "code",
      "source": [
        "def function(x):\n",
        "  print(sum(x))"
      ],
      "metadata": {
        "id": "dnId2qhRZTVw"
      },
      "execution_count": 2,
      "outputs": []
    },
    {
      "cell_type": "code",
      "source": [
        "function(x)"
      ],
      "metadata": {
        "colab": {
          "base_uri": "https://localhost:8080/"
        },
        "id": "nrb4wy_5aDY2",
        "outputId": "df0818ac-d232-437b-b86c-c7cadbf6b075"
      },
      "execution_count": 3,
      "outputs": [
        {
          "output_type": "stream",
          "name": "stdout",
          "text": [
            "182\n"
          ]
        }
      ]
    },
    {
      "cell_type": "code",
      "execution_count": 4,
      "metadata": {
        "id": "VlaUtGuaaftI"
      },
      "outputs": [],
      "source": [
        "x = [5, 4, 7, 9, 3, 12, 18, 11, 79, 34]"
      ]
    },
    {
      "cell_type": "code",
      "source": [
        "def even(x):\n",
        "  for m in x:\n",
        "    if m%2==0:\n",
        "      print(m, \"is an even number\")\n",
        "def odd(x):\n",
        "  for n in x:\n",
        "    if n%2!=0:\n",
        "      print(n, \"is an odd number\")\n",
        "even(x)\n",
        "odd(x)"
      ],
      "metadata": {
        "colab": {
          "base_uri": "https://localhost:8080/"
        },
        "id": "eRopuex4alZX",
        "outputId": "1d8be264-761b-4da9-e164-c43fc332fa25"
      },
      "execution_count": 8,
      "outputs": [
        {
          "output_type": "stream",
          "name": "stdout",
          "text": [
            "4 is an even number\n",
            "12 is an even number\n",
            "18 is an even number\n",
            "34 is an even number\n",
            "5 is an odd number\n",
            "7 is an odd number\n",
            "9 is an odd number\n",
            "3 is an odd number\n",
            "11 is an odd number\n",
            "79 is an odd number\n"
          ]
        }
      ]
    },
    {
      "cell_type": "code",
      "source": [
        "def remove(x):\n",
        "  for n in x:\n",
        "    if n%2!=0:\n",
        "      x.remove(n)\n",
        "  print(x)\n",
        "remove(x)"
      ],
      "metadata": {
        "colab": {
          "base_uri": "https://localhost:8080/"
        },
        "id": "b79UtFH_ehl2",
        "outputId": "f5736072-d536-4c0e-e263-b05b5ebca857"
      },
      "execution_count": 11,
      "outputs": [
        {
          "output_type": "stream",
          "name": "stdout",
          "text": [
            "[4, 12, 18, 34]\n"
          ]
        }
      ]
    },
    {
      "cell_type": "code",
      "source": [
        "x = \"Python is a high-level, general-purpose programming language. Its design philosophy emphasizes code readability with the use of significant indentation. Python is dynamically typed and garbage-collected. It supports multiple programming paradigms, including structured, object-oriented and functional programming\"\n",
        "vowels=[\"a\", \"e\", \"i\", \"o\", \"u\", \"A\", \"E\", \"I\", \"O\", \"U\"]\n",
        "def archana(r):\n",
        "  for i in r:\n",
        "    if i in vowels:\n",
        "      r=r.replace(i,\"\")\n",
        "  print(\"After removing vowels: \", r)\n",
        "    "
      ],
      "metadata": {
        "id": "4DgBsqPXf2B2"
      },
      "execution_count": 29,
      "outputs": []
    },
    {
      "cell_type": "code",
      "source": [
        "archana(x)"
      ],
      "metadata": {
        "colab": {
          "base_uri": "https://localhost:8080/"
        },
        "id": "K9YNt-t8kK93",
        "outputId": "24fe89c2-a633-4b70-e897-ed01bbedd39d"
      },
      "execution_count": 32,
      "outputs": [
        {
          "output_type": "stream",
          "name": "stdout",
          "text": [
            "After removing vowels:  Pythn s  hgh-lvl, gnrl-prps prgrmmng lngg. ts dsgn phlsphy mphszs cd rdblty wth th s f sgnfcnt ndnttn. Pythn s dynmclly typd nd grbg-cllctd. t spprts mltpl prgrmmng prdgms, ncldng strctrd, bjct-rntd nd fnctnl prgrmmng\n"
          ]
        }
      ]
    },
    {
      "cell_type": "code",
      "source": [],
      "metadata": {
        "id": "wusNKCPSpjC2"
      },
      "execution_count": null,
      "outputs": []
    }
  ]
}