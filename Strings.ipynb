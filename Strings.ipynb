{
  "nbformat": 4,
  "nbformat_minor": 0,
  "metadata": {
    "colab": {
      "provenance": [],
      "authorship_tag": "ABX9TyOwOfNwahKM1TOP72aUXBsn",
      "include_colab_link": true
    },
    "kernelspec": {
      "name": "python3",
      "display_name": "Python 3"
    },
    "language_info": {
      "name": "python"
    }
  },
  "cells": [
    {
      "cell_type": "markdown",
      "metadata": {
        "id": "view-in-github",
        "colab_type": "text"
      },
      "source": [
        "<a href=\"https://colab.research.google.com/github/archananair17/Exam/blob/main/Strings.ipynb\" target=\"_parent\"><img src=\"https://colab.research.google.com/assets/colab-badge.svg\" alt=\"Open In Colab\"/></a>"
      ]
    },
    {
      "cell_type": "code",
      "execution_count": 1,
      "metadata": {
        "colab": {
          "base_uri": "https://localhost:8080/"
        },
        "id": "zx2Ugdxuwnpj",
        "outputId": "e9a39dac-9255-4214-ebb2-9607ff6e1a36"
      },
      "outputs": [
        {
          "output_type": "stream",
          "name": "stdout",
          "text": [
            "This is \"Python\" programming\n"
          ]
        }
      ],
      "source": [
        "x = \"This is \\\"Python\\\" programming\" #Inverted Comma\n",
        "print(x)"
      ]
    },
    {
      "cell_type": "code",
      "source": [
        "x = 'He\\'s a doctor'             #apostrophe\n",
        "print(x)"
      ],
      "metadata": {
        "colab": {
          "base_uri": "https://localhost:8080/"
        },
        "id": "0JJY1pr5xDtx",
        "outputId": "6a83e7af-3e13-4eec-e238-47cee6c52253"
      },
      "execution_count": 3,
      "outputs": [
        {
          "output_type": "stream",
          "name": "stdout",
          "text": [
            "He's a doctor\n"
          ]
        }
      ]
    },
    {
      "cell_type": "code",
      "source": [
        "x = \"Hello\\nWorld!\"              #next line\n",
        "print(x)"
      ],
      "metadata": {
        "colab": {
          "base_uri": "https://localhost:8080/"
        },
        "id": "KveQFdvmxPOO",
        "outputId": "1dddeda3-02f4-4303-f2b6-2de33c46075e"
      },
      "execution_count": 4,
      "outputs": [
        {
          "output_type": "stream",
          "name": "stdout",
          "text": [
            "Hello\n",
            "World!\n"
          ]
        }
      ]
    },
    {
      "cell_type": "code",
      "source": [
        "x = \"Hello\\tWorld!\"              #space\n",
        "print(x)"
      ],
      "metadata": {
        "colab": {
          "base_uri": "https://localhost:8080/"
        },
        "id": "crf-xwHQxeat",
        "outputId": "b8e92775-a37b-4d98-e0a5-948d91968f70"
      },
      "execution_count": 5,
      "outputs": [
        {
          "output_type": "stream",
          "name": "stdout",
          "text": [
            "Hello\tWorld!\n"
          ]
        }
      ]
    },
    {
      "cell_type": "code",
      "source": [
        "print(\"\\\"Archana\\\" Nair\")"
      ],
      "metadata": {
        "colab": {
          "base_uri": "https://localhost:8080/"
        },
        "id": "RwPipl9Vx20k",
        "outputId": "743c1db0-28bd-424f-8121-42fa715b25a6"
      },
      "execution_count": 6,
      "outputs": [
        {
          "output_type": "stream",
          "name": "stdout",
          "text": [
            "\"Archana\" Nair\n"
          ]
        }
      ]
    },
    {
      "cell_type": "code",
      "source": [
        "print('He\\'s an \\\"Aerospace Engineer\\\"')"
      ],
      "metadata": {
        "colab": {
          "base_uri": "https://localhost:8080/"
        },
        "id": "P-4XIB7jzwta",
        "outputId": "bc609874-28db-43e4-f75d-34076da84b43"
      },
      "execution_count": 7,
      "outputs": [
        {
          "output_type": "stream",
          "name": "stdout",
          "text": [
            "He's an \"Aerospace Engineer\"\n"
          ]
        }
      ]
    },
    {
      "cell_type": "code",
      "source": [
        "print(\"Archana \\n  Nair\")"
      ],
      "metadata": {
        "colab": {
          "base_uri": "https://localhost:8080/"
        },
        "id": "931RJ_0G0pp2",
        "outputId": "b7dfafc3-502b-41e4-f38f-bf846a97c15b"
      },
      "execution_count": 9,
      "outputs": [
        {
          "output_type": "stream",
          "name": "stdout",
          "text": [
            "Archana \n",
            "  Nair\n"
          ]
        }
      ]
    },
    {
      "cell_type": "code",
      "source": [
        "x = []\n",
        "for i in range(0,4,1):\n",
        "  a=input(\"Enter a Name \")\n",
        "  b=int(input(\"Enter index \"))\n",
        "  x.insert(b,a)\n",
        "x"
      ],
      "metadata": {
        "colab": {
          "base_uri": "https://localhost:8080/"
        },
        "id": "bfzyFuxj1OS1",
        "outputId": "d7e8db3c-c366-488b-85a0-23ace147dbe4"
      },
      "execution_count": 11,
      "outputs": [
        {
          "name": "stdout",
          "output_type": "stream",
          "text": [
            "Enter a Name John\n",
            "Enter index 0\n",
            "Enter a Name Mary\n",
            "Enter index 1\n",
            "Enter a Name David\n",
            "Enter index 2\n",
            "Enter a Name Adam\n",
            "Enter index 3\n"
          ]
        },
        {
          "output_type": "execute_result",
          "data": {
            "text/plain": [
              "['John', 'Mary', 'David', 'Adam']"
            ]
          },
          "metadata": {},
          "execution_count": 11
        }
      ]
    },
    {
      "cell_type": "code",
      "source": [
        "def maureen():\n",
        "  y=int(input(\"Enter Index \"))\n",
        "  n=input(\"Enter a name \")\n",
        "  x.insert(y,n)"
      ],
      "metadata": {
        "id": "bZd8gjwi16BI"
      },
      "execution_count": 12,
      "outputs": []
    },
    {
      "cell_type": "code",
      "source": [
        "maureen()"
      ],
      "metadata": {
        "colab": {
          "base_uri": "https://localhost:8080/"
        },
        "id": "qluL562T-bm-",
        "outputId": "3e7b48a4-b7a2-42c6-db30-de76d89f8baf"
      },
      "execution_count": 14,
      "outputs": [
        {
          "name": "stdout",
          "output_type": "stream",
          "text": [
            "Enter Index 2\n",
            "Enter a name Archana\n"
          ]
        }
      ]
    },
    {
      "cell_type": "code",
      "source": [
        "def archana():\n",
        "  x=int(input(\"Enter a number\"))\n",
        "  y=int(input(\"Enter a number\"))\n",
        "  print(x+y)\n",
        "  print(x-y)\n",
        "  print(x/y)\n",
        "  print(x*y)"
      ],
      "metadata": {
        "id": "SxfEmyN--eMO"
      },
      "execution_count": 15,
      "outputs": []
    },
    {
      "cell_type": "code",
      "source": [
        "archana()"
      ],
      "metadata": {
        "colab": {
          "base_uri": "https://localhost:8080/"
        },
        "id": "pEHTM8DW_LAb",
        "outputId": "269ac855-ecf1-4bb4-9584-e347836551cd"
      },
      "execution_count": 16,
      "outputs": [
        {
          "output_type": "stream",
          "name": "stdout",
          "text": [
            "Enter a number56\n",
            "Enter a number89\n",
            "145\n",
            "-33\n",
            "0.6292134831460674\n",
            "4984\n"
          ]
        }
      ]
    },
    {
      "cell_type": "code",
      "source": [
        "def archana(a,b):\n",
        "  print(a+b)"
      ],
      "metadata": {
        "id": "L4qAAa8G_Oxz"
      },
      "execution_count": 17,
      "outputs": []
    },
    {
      "cell_type": "code",
      "source": [
        "x=int(input(\"Enter first value: \"))\n",
        "y=int(input(\"Enter second value: \"))\n",
        "archana(x,y)"
      ],
      "metadata": {
        "colab": {
          "base_uri": "https://localhost:8080/"
        },
        "id": "hMnX-KJWEVBy",
        "outputId": "b396cabe-6a3e-42df-e5ff-be69c544f1fd"
      },
      "execution_count": 19,
      "outputs": [
        {
          "output_type": "stream",
          "name": "stdout",
          "text": [
            "Enter first value: 9\n",
            "Enter second value: 6\n",
            "15\n"
          ]
        }
      ]
    },
    {
      "cell_type": "code",
      "source": [
        "def add(c,d):\n",
        "  print(c+d)"
      ],
      "metadata": {
        "id": "GEywXKSLElHx"
      },
      "execution_count": 20,
      "outputs": []
    },
    {
      "cell_type": "code",
      "source": [
        "s=int(input(\"Enter first value: \"))\n",
        "u=int(input(\"Enter second value: \"))\n",
        "add(s,u)"
      ],
      "metadata": {
        "colab": {
          "base_uri": "https://localhost:8080/"
        },
        "id": "Tr9Utvg0Fm2n",
        "outputId": "46f2ea22-f3bf-4909-c84b-57cf0e050719"
      },
      "execution_count": 27,
      "outputs": [
        {
          "output_type": "stream",
          "name": "stdout",
          "text": [
            "Enter first value: 5\n",
            "Enter second value: 8\n",
            "13\n"
          ]
        }
      ]
    },
    {
      "cell_type": "code",
      "source": [
        "def subtract(c,d):\n",
        "  print(c-d)"
      ],
      "metadata": {
        "id": "IoEcOzcIFyVO"
      },
      "execution_count": 24,
      "outputs": []
    },
    {
      "cell_type": "code",
      "source": [
        "s=int(input(\"Enter first value: \"))\n",
        "u=int(input(\"Enter second value: \"))\n",
        "subtract(s,u)"
      ],
      "metadata": {
        "colab": {
          "base_uri": "https://localhost:8080/"
        },
        "id": "nYdSwxFbF9T-",
        "outputId": "5d7f92f8-8aae-43e5-bcaa-0e0ebfce4e8f"
      },
      "execution_count": 26,
      "outputs": [
        {
          "output_type": "stream",
          "name": "stdout",
          "text": [
            "Enter first value: 9\n",
            "Enter second value: 4\n",
            "5\n"
          ]
        }
      ]
    },
    {
      "cell_type": "code",
      "source": [
        "def multiply(c,d):\n",
        "  print(c*d)"
      ],
      "metadata": {
        "id": "W7x5IsKDGCbu"
      },
      "execution_count": 28,
      "outputs": []
    },
    {
      "cell_type": "code",
      "source": [
        "s=int(input(\"Enter first value: \"))\n",
        "u=int(input(\"Enter second value: \"))\n",
        "multiply(s,u)"
      ],
      "metadata": {
        "colab": {
          "base_uri": "https://localhost:8080/"
        },
        "id": "jCNxZr-GGxJX",
        "outputId": "3d7037c0-52b3-444b-97c0-44e0c596ae7f"
      },
      "execution_count": 29,
      "outputs": [
        {
          "output_type": "stream",
          "name": "stdout",
          "text": [
            "Enter first value: 3\n",
            "Enter second value: 7\n",
            "21\n"
          ]
        }
      ]
    },
    {
      "cell_type": "code",
      "source": [
        "def division(c,d):\n",
        "  print(c/d)"
      ],
      "metadata": {
        "id": "ukCz-MROG3kM"
      },
      "execution_count": 30,
      "outputs": []
    },
    {
      "cell_type": "code",
      "source": [
        "s=int(input(\"Enter first value: \"))\n",
        "u=int(input(\"Enter second value: \"))\n",
        "division(s,u)"
      ],
      "metadata": {
        "colab": {
          "base_uri": "https://localhost:8080/"
        },
        "id": "ss3LlD4uHAM8",
        "outputId": "00e42d89-b30f-41a6-b9bf-c365d2bc612e"
      },
      "execution_count": 31,
      "outputs": [
        {
          "output_type": "stream",
          "name": "stdout",
          "text": [
            "Enter first value: 50\n",
            "Enter second value: 10\n",
            "5.0\n"
          ]
        }
      ]
    },
    {
      "cell_type": "code",
      "source": [],
      "metadata": {
        "id": "FgkjvlhIHFOD"
      },
      "execution_count": null,
      "outputs": []
    }
  ]
}