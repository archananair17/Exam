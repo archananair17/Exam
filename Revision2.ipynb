{
  "nbformat": 4,
  "nbformat_minor": 0,
  "metadata": {
    "colab": {
      "provenance": [],
      "authorship_tag": "ABX9TyMnAC/dbHQf/i/QO3fnimYI",
      "include_colab_link": true
    },
    "kernelspec": {
      "name": "python3",
      "display_name": "Python 3"
    },
    "language_info": {
      "name": "python"
    }
  },
  "cells": [
    {
      "cell_type": "markdown",
      "metadata": {
        "id": "view-in-github",
        "colab_type": "text"
      },
      "source": [
        "<a href=\"https://colab.research.google.com/github/archananair17/Exam/blob/main/Revision2.ipynb\" target=\"_parent\"><img src=\"https://colab.research.google.com/assets/colab-badge.svg\" alt=\"Open In Colab\"/></a>"
      ]
    },
    {
      "cell_type": "code",
      "execution_count": 1,
      "metadata": {
        "colab": {
          "base_uri": "https://localhost:8080/"
        },
        "id": "8EItiumgDC2E",
        "outputId": "9be2a7ad-30ba-4b3d-a472-0df4f5dd88ef"
      },
      "outputs": [
        {
          "name": "stdout",
          "output_type": "stream",
          "text": [
            "Enter your marks50\n"
          ]
        }
      ],
      "source": [
        "x= int(input(\"Enter your marks\"))"
      ]
    },
    {
      "cell_type": "code",
      "source": [
        "if x>50 :\n",
        "  print(\"You are pass\")\n",
        "if x==50 :\n",
        "  print(\"You are just pass\")\n",
        "if x<50 :\n",
        "  print(\"You are failed\")"
      ],
      "metadata": {
        "colab": {
          "base_uri": "https://localhost:8080/"
        },
        "id": "7Bxjwqm7ESac",
        "outputId": "2943b85b-bba3-4878-fe25-731359736ee3"
      },
      "execution_count": 4,
      "outputs": [
        {
          "output_type": "stream",
          "name": "stdout",
          "text": [
            "You are just pass\n"
          ]
        }
      ]
    },
    {
      "cell_type": "code",
      "source": [
        "x= int(input(\"Enter your salary\"))\n",
        "if x>250000 :\n",
        "  print(\"You are taxable\")\n",
        "else :\n",
        "  print(\"You are not taxable\")"
      ],
      "metadata": {
        "colab": {
          "base_uri": "https://localhost:8080/"
        },
        "id": "-2FF8fEnFpys",
        "outputId": "c3b07438-f482-4f1f-8e48-ad540bc57d6e"
      },
      "execution_count": 7,
      "outputs": [
        {
          "output_type": "stream",
          "name": "stdout",
          "text": [
            "Enter your salary1\n",
            "You are not taxable\n"
          ]
        }
      ]
    },
    {
      "cell_type": "code",
      "source": [
        "x= int(input(\"Enter your salary\"))\n",
        "if x>250000 :\n",
        "  print(\"You are taxable\")\n",
        "  print(\"tax:\",x*10/100)"
      ],
      "metadata": {
        "colab": {
          "base_uri": "https://localhost:8080/"
        },
        "id": "ATJ80PMwG99h",
        "outputId": "404de7d5-aceb-43b4-9cb5-1ac324df3506"
      },
      "execution_count": 8,
      "outputs": [
        {
          "output_type": "stream",
          "name": "stdout",
          "text": [
            "Enter your salary250001\n",
            "You are taxable\n",
            "tax: 25000.1\n"
          ]
        }
      ]
    },
    {
      "cell_type": "code",
      "source": [
        "x= int(input(\"Enter your salary\"))\n",
        "if 250000<x and x<500000 :\n",
        "  print(\"You are taxable\")\n",
        "  sal=x-250000\n",
        "  print(\"tax: \",sal*10/100)\n",
        "elif x>=500000 :\n",
        "  print(\"You are taxable\")\n",
        "  sal=x-250000\n",
        "  print(\"tax: \",sal*20/100)\n",
        "else :\n",
        "  print(\"You are not taxable\")"
      ],
      "metadata": {
        "colab": {
          "base_uri": "https://localhost:8080/"
        },
        "id": "IAYhUQkMI6ZN",
        "outputId": "344db84c-2d6b-452a-d18c-80d863598440"
      },
      "execution_count": 10,
      "outputs": [
        {
          "output_type": "stream",
          "name": "stdout",
          "text": [
            "Enter your salary600000\n",
            "You are taxable\n",
            "tax:  70000.0\n"
          ]
        }
      ]
    },
    {
      "cell_type": "code",
      "source": [
        "sal=int(input(\"Enter your salary: \"))\n",
        "if sal>250000 and sal<500000 :\n",
        "  print(\"You are taxable\")\n",
        "  x=sal-250000\n",
        "  print(\"tax: \",x*5/100)\n",
        "elif sal>500000 and sal<750000 :\n",
        "  print(\"You are taxable\")\n",
        "  x=sal-250000\n",
        "  print(\"tax: \",(x*10/100)+(250000*5/100))\n",
        "elif sal>750000 and sal<1000000 :\n",
        "  print(\"You are taxable\")\n",
        "  x=sal-750000\n",
        "  print(\"tax: \",(x*15/100)+(250000*5/100)+(250000*10/100))\n",
        "elif sal>1000000 and sal<1250000 :\n",
        "  print(\"You are taxable\")\n",
        "  x=sal-1000000\n",
        "  print(\"tax: \",(x*20/100)+(250000*5/100)+(250000*10/100)+(250000*15/100))\n",
        "elif sal>1250000 and sal<1500000 :\n",
        "  print(\"You are taxable\")\n",
        "  x=sal-1250000\n",
        "  print(\"tax: \",(x*25/100)+(250000*5/100)+(250000*10/100)+(250000*15/100)+(250000*20/100))\n",
        "elif sal>1500000 :\n",
        "  print(\"You are taxable\")\n",
        "  x=sal-1500000\n",
        "  print(\"tax: \",(x*30/100)+(250000*5/100)+(250000*10/100)+(250000*15/100)+(250000*20/100)+(250000*25/100))\n",
        "else :\n",
        "  print(\"You are not taxable\")\n"
      ],
      "metadata": {
        "colab": {
          "base_uri": "https://localhost:8080/"
        },
        "id": "ALLKYA5zMm36",
        "outputId": "342d6375-c3e1-413e-acec-259e3ef07194"
      },
      "execution_count": 15,
      "outputs": [
        {
          "output_type": "stream",
          "name": "stdout",
          "text": [
            "Enter your salary: 1400000\n",
            "You are taxable\n",
            "tax:  162500.0\n"
          ]
        }
      ]
    },
    {
      "cell_type": "code",
      "source": [],
      "metadata": {
        "id": "nQHd9RNBWu5K"
      },
      "execution_count": null,
      "outputs": []
    }
  ]
}