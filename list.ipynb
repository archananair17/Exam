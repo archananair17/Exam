{
  "nbformat": 4,
  "nbformat_minor": 0,
  "metadata": {
    "colab": {
      "provenance": [],
      "authorship_tag": "ABX9TyPw2kvUnmIFnb0x5iyFtcMF",
      "include_colab_link": true
    },
    "kernelspec": {
      "name": "python3",
      "display_name": "Python 3"
    },
    "language_info": {
      "name": "python"
    }
  },
  "cells": [
    {
      "cell_type": "markdown",
      "metadata": {
        "id": "view-in-github",
        "colab_type": "text"
      },
      "source": [
        "<a href=\"https://colab.research.google.com/github/archananair17/Exam/blob/main/list.ipynb\" target=\"_parent\"><img src=\"https://colab.research.google.com/assets/colab-badge.svg\" alt=\"Open In Colab\"/></a>"
      ]
    },
    {
      "cell_type": "code",
      "execution_count": null,
      "metadata": {
        "colab": {
          "base_uri": "https://localhost:8080/"
        },
        "id": "L56Wqu9ztmxX",
        "outputId": "a1049b3b-a63f-4d91-8cda-27abdec2d280"
      },
      "outputs": [
        {
          "output_type": "execute_result",
          "data": {
            "text/plain": [
              "12"
            ]
          },
          "metadata": {},
          "execution_count": 1
        }
      ],
      "source": [
        "x = \"Archana Nair\"\n",
        "len(x)"
      ]
    },
    {
      "cell_type": "code",
      "source": [
        "x = [\"John\", \"Mary\", \"David\", \"Adam\"]\n",
        "print(x)\n",
        "print(type(x))"
      ],
      "metadata": {
        "colab": {
          "base_uri": "https://localhost:8080/"
        },
        "id": "ISkIstrPvDjm",
        "outputId": "f30273a9-5838-43c4-aed6-d8a5e27135be"
      },
      "execution_count": null,
      "outputs": [
        {
          "output_type": "stream",
          "name": "stdout",
          "text": [
            "['John', 'Mary', 'David', 'Adam']\n",
            "<class 'list'>\n"
          ]
        }
      ]
    },
    {
      "cell_type": "code",
      "source": [
        "x = [9060, \"Archana Nair\", 19, 17/12/2003, \"Ernakulam\"]\n",
        "print(x)\n",
        "type(x)"
      ],
      "metadata": {
        "colab": {
          "base_uri": "https://localhost:8080/"
        },
        "id": "4YdPElXIvZYh",
        "outputId": "824687d5-da3f-401d-d3ca-072787f67ed4"
      },
      "execution_count": null,
      "outputs": [
        {
          "output_type": "stream",
          "name": "stdout",
          "text": [
            "[9060, 'Archana Nair', 19, 0.000707272424696289, 'Ernakulam']\n"
          ]
        },
        {
          "output_type": "execute_result",
          "data": {
            "text/plain": [
              "list"
            ]
          },
          "metadata": {},
          "execution_count": 5
        }
      ]
    },
    {
      "cell_type": "code",
      "source": [
        "print(x[0])"
      ],
      "metadata": {
        "colab": {
          "base_uri": "https://localhost:8080/"
        },
        "id": "_JwHTiK7wufw",
        "outputId": "3b85d52c-ad5b-483a-d0a8-682826116a0b"
      },
      "execution_count": null,
      "outputs": [
        {
          "output_type": "stream",
          "name": "stdout",
          "text": [
            "9060\n"
          ]
        }
      ]
    },
    {
      "cell_type": "code",
      "source": [
        "print(x[-1])"
      ],
      "metadata": {
        "colab": {
          "base_uri": "https://localhost:8080/"
        },
        "id": "rP-6KaY5w_SW",
        "outputId": "5d14c44e-b792-46b4-d0e3-f6ff8d94751b"
      },
      "execution_count": null,
      "outputs": [
        {
          "output_type": "stream",
          "name": "stdout",
          "text": [
            "Ernakulam\n"
          ]
        }
      ]
    },
    {
      "cell_type": "code",
      "source": [
        "x = [5, 10, 15, 20, 25, 30, 35, 40, 45, 50]"
      ],
      "metadata": {
        "id": "D0QEG_A_xkbW"
      },
      "execution_count": null,
      "outputs": []
    },
    {
      "cell_type": "code",
      "source": [
        "print(x[0:1])"
      ],
      "metadata": {
        "colab": {
          "base_uri": "https://localhost:8080/"
        },
        "id": "QPHdE8BNx0q_",
        "outputId": "d7c1d094-887c-4093-9198-75668d28661e"
      },
      "execution_count": null,
      "outputs": [
        {
          "output_type": "stream",
          "name": "stdout",
          "text": [
            "[5]\n"
          ]
        }
      ]
    },
    {
      "cell_type": "code",
      "source": [
        "print(x[0:2])"
      ],
      "metadata": {
        "colab": {
          "base_uri": "https://localhost:8080/"
        },
        "id": "5h0RLRkvyUcH",
        "outputId": "b61ea930-39ac-470c-ddbc-9971003aeaa1"
      },
      "execution_count": null,
      "outputs": [
        {
          "output_type": "stream",
          "name": "stdout",
          "text": [
            "[5, 10]\n"
          ]
        }
      ]
    },
    {
      "cell_type": "code",
      "source": [
        "x[0:5]"
      ],
      "metadata": {
        "colab": {
          "base_uri": "https://localhost:8080/"
        },
        "id": "DL_63Fdsycuo",
        "outputId": "03f8db57-ad0a-4013-b3ee-7a3926d7972b"
      },
      "execution_count": null,
      "outputs": [
        {
          "output_type": "execute_result",
          "data": {
            "text/plain": [
              "[5, 10, 15, 20, 25]"
            ]
          },
          "metadata": {},
          "execution_count": 12
        }
      ]
    },
    {
      "cell_type": "code",
      "source": [
        "x[7:]"
      ],
      "metadata": {
        "colab": {
          "base_uri": "https://localhost:8080/"
        },
        "id": "43io7fSvygd_",
        "outputId": "b35b1b52-b7a0-44cd-ae02-b7ab06884249"
      },
      "execution_count": null,
      "outputs": [
        {
          "output_type": "execute_result",
          "data": {
            "text/plain": [
              "[40, 45, 50]"
            ]
          },
          "metadata": {},
          "execution_count": 18
        }
      ]
    },
    {
      "cell_type": "code",
      "source": [
        "x = [5, 10, 15, 20, 25, 30, 35, 40, 45, 50]"
      ],
      "metadata": {
        "id": "LZsnQOXxzAjn"
      },
      "execution_count": null,
      "outputs": []
    },
    {
      "cell_type": "code",
      "source": [
        "x[0]=55"
      ],
      "metadata": {
        "id": "KhN6heJa0nBN"
      },
      "execution_count": null,
      "outputs": []
    },
    {
      "cell_type": "code",
      "source": [
        "print(x)"
      ],
      "metadata": {
        "colab": {
          "base_uri": "https://localhost:8080/"
        },
        "id": "lfjIWwKk0uLh",
        "outputId": "1e1d7f61-04f0-4d57-db58-3749fc78644e"
      },
      "execution_count": null,
      "outputs": [
        {
          "output_type": "stream",
          "name": "stdout",
          "text": [
            "[55, 10, 15, 20, 25, 30, 35, 40, 45, 50]\n"
          ]
        }
      ]
    },
    {
      "cell_type": "code",
      "source": [
        "x = [9060, \"Archana Nair\", 19, 17/12/2003, \"Ernakulam\"]"
      ],
      "metadata": {
        "id": "eNDqGMXM0yF7"
      },
      "execution_count": null,
      "outputs": []
    },
    {
      "cell_type": "code",
      "source": [
        "x[-1]=\"Rajagiri\""
      ],
      "metadata": {
        "id": "1Uldovz41db8"
      },
      "execution_count": null,
      "outputs": []
    },
    {
      "cell_type": "code",
      "source": [
        "print(x)"
      ],
      "metadata": {
        "colab": {
          "base_uri": "https://localhost:8080/"
        },
        "id": "UJT9vflX1kqF",
        "outputId": "31d2b6e4-77d1-48f5-8c0a-f9d7839395e2"
      },
      "execution_count": null,
      "outputs": [
        {
          "output_type": "stream",
          "name": "stdout",
          "text": [
            "[9060, 'Archana Nair', 19, 0.000707272424696289, 'Rajagiri']\n"
          ]
        }
      ]
    },
    {
      "cell_type": "code",
      "source": [
        "x.append(69)\n",
        "print(x)"
      ],
      "metadata": {
        "colab": {
          "base_uri": "https://localhost:8080/"
        },
        "id": "gnpLoGGr1nle",
        "outputId": "ac08a7a7-4dbe-4ed6-a0af-e19f67eb120f"
      },
      "execution_count": null,
      "outputs": [
        {
          "output_type": "stream",
          "name": "stdout",
          "text": [
            "[9060, 'Archana Nair', 19, 0.000707272424696289, 'Rajagiri', 69]\n"
          ]
        }
      ]
    },
    {
      "cell_type": "code",
      "source": [
        "x = []\n",
        "for y in range(4):\n",
        "  x.append(input(\"Enter your name\"))\n",
        "  print(x)"
      ],
      "metadata": {
        "colab": {
          "base_uri": "https://localhost:8080/"
        },
        "id": "ujd0kXEn3YIl",
        "outputId": "739b3516-9228-4eb2-ddc5-c2fc5e87fe04"
      },
      "execution_count": null,
      "outputs": [
        {
          "output_type": "stream",
          "name": "stdout",
          "text": [
            "Enter your nameArchana Nair\n",
            "['Archana Nair']\n",
            "Enter your nameArchana Nair\n",
            "['Archana Nair', 'Archana Nair']\n",
            "Enter your nameArchana Nair\n",
            "['Archana Nair', 'Archana Nair', 'Archana Nair']\n",
            "Enter your nameArchana Nair\n",
            "['Archana Nair', 'Archana Nair', 'Archana Nair', 'Archana Nair']\n"
          ]
        }
      ]
    },
    {
      "cell_type": "code",
      "source": [
        "x = [9, 18, 27, 36, 45, 54, 63, 72, 81, 90]\n",
        "y=x.copy()\n",
        "print(y)"
      ],
      "metadata": {
        "colab": {
          "base_uri": "https://localhost:8080/"
        },
        "id": "XLCsGP5V4_3X",
        "outputId": "017d5768-4b14-4f97-afe8-36470cc1455f"
      },
      "execution_count": null,
      "outputs": [
        {
          "output_type": "stream",
          "name": "stdout",
          "text": [
            "[9, 18, 27, 36, 45, 54, 63, 72, 81, 90]\n"
          ]
        }
      ]
    },
    {
      "cell_type": "code",
      "source": [
        "x = [\"John\", \"Mary\", \"David\", \"Adam\"]\n",
        "y = ['A', 'B', 'C']\n",
        "x.extend(y)\n",
        "x"
      ],
      "metadata": {
        "colab": {
          "base_uri": "https://localhost:8080/"
        },
        "id": "FEDzFyhR9T0R",
        "outputId": "e44f408f-a18a-4fc0-f146-86ffc1950294"
      },
      "execution_count": null,
      "outputs": [
        {
          "output_type": "execute_result",
          "data": {
            "text/plain": [
              "['John', 'Mary', 'David', 'Adam', 'A', 'B', 'C']"
            ]
          },
          "metadata": {},
          "execution_count": 28
        }
      ]
    },
    {
      "cell_type": "code",
      "source": [
        "x = [9, 18, 27, 36, 45, 54, 63, 72, 81, 90, 9]\n",
        "x.count(9)"
      ],
      "metadata": {
        "colab": {
          "base_uri": "https://localhost:8080/"
        },
        "id": "P6b76iHT-qvK",
        "outputId": "e5422d9d-e270-42ea-cf94-032f11bee885"
      },
      "execution_count": null,
      "outputs": [
        {
          "output_type": "execute_result",
          "data": {
            "text/plain": [
              "2"
            ]
          },
          "metadata": {},
          "execution_count": 29
        }
      ]
    },
    {
      "cell_type": "code",
      "source": [
        "x = [\"Archana\", \"Maureen\", \"Vishnu\", \"Enitta\"]\n",
        "x[1:3] = [\"Denver\", \"Jackson\"]\n",
        "x"
      ],
      "metadata": {
        "colab": {
          "base_uri": "https://localhost:8080/"
        },
        "id": "2WcGWeU5_RJ_",
        "outputId": "6df33888-843f-4ab6-875e-1df0d8e751f3"
      },
      "execution_count": null,
      "outputs": [
        {
          "output_type": "execute_result",
          "data": {
            "text/plain": [
              "['Archana', 'Denver', 'Jackson', 'Enitta']"
            ]
          },
          "metadata": {},
          "execution_count": 30
        }
      ]
    },
    {
      "cell_type": "code",
      "source": [
        "x = [\"Archana\", \"Maureen\", \"Vishnu\", \"Enitta\"]\n",
        "x.insert(2, \"Dokyeom\")\n",
        "x"
      ],
      "metadata": {
        "colab": {
          "base_uri": "https://localhost:8080/"
        },
        "id": "TMgwLsjzAeUz",
        "outputId": "2154534e-6b86-493e-f7e6-351be9560cc0"
      },
      "execution_count": null,
      "outputs": [
        {
          "output_type": "execute_result",
          "data": {
            "text/plain": [
              "['Archana', 'Maureen', 'Dokyeom', 'Vishnu', 'Enitta']"
            ]
          },
          "metadata": {},
          "execution_count": 31
        }
      ]
    },
    {
      "cell_type": "code",
      "source": [
        "x = [\"Archana\", \"Maureen\", \"Vishnu\", \"Enitta\"]\n",
        "x.remove(\"Vishnu\")\n",
        "x"
      ],
      "metadata": {
        "colab": {
          "base_uri": "https://localhost:8080/"
        },
        "id": "I8b4G9DHBX0N",
        "outputId": "ec45e1ab-50bd-45d4-a7ad-ebd38f8fcea6"
      },
      "execution_count": null,
      "outputs": [
        {
          "output_type": "execute_result",
          "data": {
            "text/plain": [
              "['Archana', 'Maureen', 'Enitta']"
            ]
          },
          "metadata": {},
          "execution_count": 32
        }
      ]
    },
    {
      "cell_type": "code",
      "source": [
        "x = [\"Archana\", \"Maureen\", \"Vishnu\", \"Enitta\"]\n",
        "del x[0]\n",
        "del x[-1]\n",
        "x"
      ],
      "metadata": {
        "colab": {
          "base_uri": "https://localhost:8080/"
        },
        "id": "FaLWrIR-Cd8u",
        "outputId": "d1ecb4d3-1bb3-442d-f456-b7ccca800ec1"
      },
      "execution_count": null,
      "outputs": [
        {
          "output_type": "execute_result",
          "data": {
            "text/plain": [
              "['Maureen', 'Vishnu']"
            ]
          },
          "metadata": {},
          "execution_count": 33
        }
      ]
    },
    {
      "cell_type": "code",
      "source": [
        "x = [\"Archana\", \"Maureen\", \"Vishnu\", \"Enitta\"]\n",
        "del x[0:2]\n",
        "x"
      ],
      "metadata": {
        "colab": {
          "base_uri": "https://localhost:8080/"
        },
        "id": "cpzTHuu7DMwj",
        "outputId": "67c4f387-5d65-41c2-e79a-67567dc6cf3d"
      },
      "execution_count": null,
      "outputs": [
        {
          "output_type": "execute_result",
          "data": {
            "text/plain": [
              "['Vishnu', 'Enitta']"
            ]
          },
          "metadata": {},
          "execution_count": 34
        }
      ]
    }
  ]
}