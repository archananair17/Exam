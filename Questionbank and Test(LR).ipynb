{
  "nbformat": 4,
  "nbformat_minor": 0,
  "metadata": {
    "colab": {
      "provenance": [],
      "authorship_tag": "ABX9TyNAiO578NaoRn+Uo1tauXNb",
      "include_colab_link": true
    },
    "kernelspec": {
      "name": "python3",
      "display_name": "Python 3"
    },
    "language_info": {
      "name": "python"
    }
  },
  "cells": [
    {
      "cell_type": "markdown",
      "metadata": {
        "id": "view-in-github",
        "colab_type": "text"
      },
      "source": [
        "<a href=\"https://colab.research.google.com/github/archananair17/Exam/blob/main/Questionbank%20and%20Test(LR).ipynb\" target=\"_parent\"><img src=\"https://colab.research.google.com/assets/colab-badge.svg\" alt=\"Open In Colab\"/></a>"
      ]
    },
    {
      "cell_type": "code",
      "execution_count": 1,
      "metadata": {
        "id": "Tz3nSmn1Hk3P"
      },
      "outputs": [],
      "source": [
        "import numpy as np\n",
        "import matplotlib.pyplot as plt\n",
        "import pandas as pd"
      ]
    },
    {
      "cell_type": "code",
      "source": [
        "dataset = pd.read_csv('AMZN.csv')"
      ],
      "metadata": {
        "id": "G3f8acdKHyNS"
      },
      "execution_count": 2,
      "outputs": []
    },
    {
      "cell_type": "code",
      "source": [
        "x = dataset.iloc[:,0:1].values"
      ],
      "metadata": {
        "id": "E-f13zBQH9HQ"
      },
      "execution_count": 4,
      "outputs": []
    },
    {
      "cell_type": "code",
      "source": [
        "print(x)"
      ],
      "metadata": {
        "colab": {
          "base_uri": "https://localhost:8080/"
        },
        "id": "CdRRmsRCIJ_z",
        "outputId": "5ca75e73-dd97-458d-b8cc-5f83026f58e7"
      },
      "execution_count": 5,
      "outputs": [
        {
          "output_type": "stream",
          "name": "stdout",
          "text": [
            "[[  1.]\n",
            " [  2.]\n",
            " [  3.]\n",
            " [  4.]\n",
            " [  5.]\n",
            " [  6.]\n",
            " [  7.]\n",
            " [  8.]\n",
            " [  9.]\n",
            " [ 10.]\n",
            " [ 11.]\n",
            " [ 12.]\n",
            " [ 13.]\n",
            " [ 14.]\n",
            " [ 15.]\n",
            " [ 16.]\n",
            " [ 17.]\n",
            " [ 18.]\n",
            " [ 19.]\n",
            " [ 20.]\n",
            " [ 21.]\n",
            " [ 22.]\n",
            " [ 23.]\n",
            " [ 24.]\n",
            " [ 25.]\n",
            " [ 26.]\n",
            " [ 27.]\n",
            " [ 28.]\n",
            " [ 29.]\n",
            " [ 30.]\n",
            " [ 31.]\n",
            " [ 32.]\n",
            " [ 33.]\n",
            " [ 34.]\n",
            " [ 35.]\n",
            " [ 36.]\n",
            " [ 37.]\n",
            " [ 38.]\n",
            " [ 39.]\n",
            " [ 40.]\n",
            " [ 41.]\n",
            " [ 42.]\n",
            " [ 43.]\n",
            " [ 44.]\n",
            " [ 45.]\n",
            " [ 46.]\n",
            " [ 47.]\n",
            " [ 48.]\n",
            " [ 49.]\n",
            " [ 50.]\n",
            " [ 51.]\n",
            " [ 52.]\n",
            " [ 53.]\n",
            " [ 54.]\n",
            " [ 55.]\n",
            " [ 56.]\n",
            " [ 57.]\n",
            " [ 58.]\n",
            " [ 59.]\n",
            " [ 60.]\n",
            " [ 61.]\n",
            " [ 62.]\n",
            " [ 63.]\n",
            " [ 64.]\n",
            " [ 65.]\n",
            " [ 66.]\n",
            " [ 67.]\n",
            " [ 68.]\n",
            " [ 69.]\n",
            " [ 70.]\n",
            " [ 71.]\n",
            " [ 72.]\n",
            " [ 73.]\n",
            " [ 74.]\n",
            " [ 75.]\n",
            " [ 76.]\n",
            " [ 77.]\n",
            " [ 78.]\n",
            " [ 79.]\n",
            " [ 80.]\n",
            " [ 81.]\n",
            " [ 82.]\n",
            " [ 83.]\n",
            " [ 84.]\n",
            " [ 85.]\n",
            " [ 86.]\n",
            " [ 87.]\n",
            " [ 88.]\n",
            " [ 89.]\n",
            " [ 90.]\n",
            " [ 91.]\n",
            " [ 92.]\n",
            " [ 93.]\n",
            " [ 94.]\n",
            " [ 95.]\n",
            " [ 96.]\n",
            " [ 97.]\n",
            " [ 98.]\n",
            " [ 99.]\n",
            " [100.]\n",
            " [101.]\n",
            " [102.]\n",
            " [103.]\n",
            " [104.]\n",
            " [105.]\n",
            " [106.]\n",
            " [107.]\n",
            " [108.]\n",
            " [109.]\n",
            " [110.]\n",
            " [111.]\n",
            " [112.]\n",
            " [113.]\n",
            " [114.]\n",
            " [115.]\n",
            " [116.]\n",
            " [117.]\n",
            " [118.]\n",
            " [119.]\n",
            " [120.]\n",
            " [121.]\n",
            " [122.]\n",
            " [123.]\n",
            " [124.]\n",
            " [125.]\n",
            " [126.]\n",
            " [127.]\n",
            " [128.]\n",
            " [129.]\n",
            " [130.]\n",
            " [131.]\n",
            " [132.]\n",
            " [133.]\n",
            " [134.]\n",
            " [135.]\n",
            " [136.]\n",
            " [137.]\n",
            " [138.]\n",
            " [139.]\n",
            " [140.]\n",
            " [141.]\n",
            " [142.]\n",
            " [143.]\n",
            " [144.]\n",
            " [145.]\n",
            " [146.]\n",
            " [147.]\n",
            " [148.]\n",
            " [149.]\n",
            " [150.]\n",
            " [151.]\n",
            " [152.]\n",
            " [153.]\n",
            " [154.]\n",
            " [155.]\n",
            " [156.]\n",
            " [157.]\n",
            " [158.]\n",
            " [159.]\n",
            " [160.]\n",
            " [161.]\n",
            " [162.]\n",
            " [163.]\n",
            " [164.]\n",
            " [165.]\n",
            " [166.]\n",
            " [167.]\n",
            " [168.]\n",
            " [169.]\n",
            " [170.]\n",
            " [171.]\n",
            " [172.]\n",
            " [173.]\n",
            " [174.]\n",
            " [175.]\n",
            " [176.]\n",
            " [177.]\n",
            " [178.]\n",
            " [179.]\n",
            " [180.]\n",
            " [181.]\n",
            " [182.]\n",
            " [183.]\n",
            " [184.]\n",
            " [185.]\n",
            " [186.]\n",
            " [187.]\n",
            " [188.]\n",
            " [189.]\n",
            " [190.]\n",
            " [191.]\n",
            " [192.]\n",
            " [193.]\n",
            " [194.]\n",
            " [195.]\n",
            " [196.]\n",
            " [197.]\n",
            " [198.]\n",
            " [199.]\n",
            " [200.]\n",
            " [201.]\n",
            " [202.]\n",
            " [203.]\n",
            " [204.]\n",
            " [205.]\n",
            " [206.]\n",
            " [207.]\n",
            " [208.]\n",
            " [209.]\n",
            " [210.]\n",
            " [211.]\n",
            " [212.]\n",
            " [213.]\n",
            " [214.]\n",
            " [215.]\n",
            " [216.]\n",
            " [217.]\n",
            " [218.]\n",
            " [219.]\n",
            " [220.]\n",
            " [221.]\n",
            " [222.]\n",
            " [223.]\n",
            " [224.]\n",
            " [225.]\n",
            " [226.]\n",
            " [227.]\n",
            " [228.]\n",
            " [229.]\n",
            " [230.]\n",
            " [231.]\n",
            " [232.]\n",
            " [233.]\n",
            " [234.]\n",
            " [235.]\n",
            " [236.]\n",
            " [237.]\n",
            " [238.]\n",
            " [239.]\n",
            " [240.]\n",
            " [241.]\n",
            " [242.]\n",
            " [243.]\n",
            " [244.]\n",
            " [245.]\n",
            " [246.]\n",
            " [247.]\n",
            " [248.]\n",
            " [249.]\n",
            " [250.]]\n"
          ]
        }
      ]
    },
    {
      "cell_type": "code",
      "source": [
        "y = dataset.iloc[:,-1].values"
      ],
      "metadata": {
        "id": "8leJY0FHIOjE"
      },
      "execution_count": 6,
      "outputs": []
    },
    {
      "cell_type": "code",
      "source": [
        "print(y)"
      ],
      "metadata": {
        "colab": {
          "base_uri": "https://localhost:8080/"
        },
        "id": "Zf89puplIVUs",
        "outputId": "ad016916-a0b1-45d4-c98b-824e94fdc5a2"
      },
      "execution_count": 7,
      "outputs": [
        {
          "output_type": "stream",
          "name": "stdout",
          "text": [
            "[152.425003 152.732498 150.848999 153.531494 147.158997 145.443497\n",
            " 136.683502 139.5      145.684998 149.574493 145.981003 142.850006\n",
            " 148.5      152.640503 156.813004 161.121002 161.805496 163.705002\n",
            " 163.749496 164.       164.975006 170.384003 168.509506 166.445007\n",
            " 164.149506 164.125    167.741501 161.650497 158.399994 156.75\n",
            " 152.712997 153.692505 150.018494 155.389999 151.523499 152.029495\n",
            " 157.602493 154.714005 148.25     144.022995 144.800003 140.191498\n",
            " 142.177994 129.848999 122.401001 124.053497 123.599998 123.\n",
            " 114.849998 111.3125   111.25     108.1035   102.75     109.069\n",
            " 113.099998 113.275002 111.439499 106.280502 109.568497 108.460999\n",
            " 104.025002 103.655502 107.970001 113.550003 116.279999 122.255997\n",
            " 121.683998 124.199997 125.25     122.010002 122.610001 119.989998\n",
            " 113.419998 104.190002 104.190002 103.860001 104.470001 102.800003\n",
            " 108.199997 107.43     110.389999 112.379997 117.089996 113.5\n",
            " 107.379997 108.110001 106.290001 107.599998 113.209999 113.849998\n",
            " 114.599998 114.080002 112.160004 107.029999 110.239998 112.5\n",
            " 115.       115.699997 118.620003 123.199997 125.010002 122.699997\n",
            " 115.790001 117.309998 121.57     134.899994 134.960007 134.720001\n",
            " 136.210007 140.580002 140.100006 142.050003 138.050003 142.899994\n",
            " 143.860001 142.050003 142.800003 143.910004 142.690002 141.320007\n",
            " 140.470001 135.720001 133.410004 132.75     135.259995 136.550003\n",
            " 129.899994 131.25     129.449997 126.       129.5      127.919998\n",
            " 126.120003 127.720001 130.910004 134.100006 131.009995 127.360001\n",
            " 127.379997 122.779999 122.160004 123.349998 122.489998 117.080002\n",
            " 116.       113.300003 117.199997 114.379997 115.599998 114.080002\n",
            " 113.580002 119.889999 118.580002 120.769997 118.       115.099998\n",
            " 112.709999 112.489998 107.879997 114.099998 110.110001 119.059998\n",
            " 114.709999 113.830002 114.790001 119.980003 119.650002 116.\n",
            " 113.919998  97.910004 103.559998 103.989998  97.32      92.470001\n",
            "  91.489998  91.949997  90.790001  89.470001  92.940002  97.879997\n",
            "  98.769997 103.209999  96.849998  95.370003  95.949997  93.970001\n",
            "  92.620003  93.239998  93.790001  93.93      94.040001  92.470001\n",
            "  96.989998  94.480003  93.050003  90.5       88.339996  89.239998\n",
            "  88.900002  89.209999  95.230003  92.5       89.889999  88.269997\n",
            "  87.510002  85.330002  86.18      85.519997  83.25      84.970001\n",
            "  82.800003  82.870003  83.120003  85.459999  86.550003  85.330002\n",
            "  83.029999  87.459999  87.57      90.93      96.93      94.18\n",
            "  98.68      97.25      94.739998  93.860001  97.559998  96.93\n",
            "  92.559998  98.239998  99.529999 101.089996 101.160004 102.529999\n",
            " 110.25     105.260002 102.93     101.169998 102.040001 101.32\n",
            "  97.559998  97.849998  98.410004  99.089996  99.209999  97.800003\n",
            "  95.339996  95.099998  96.120003  93.529999]\n"
          ]
        }
      ]
    },
    {
      "cell_type": "code",
      "source": [
        "from sklearn.model_selection import train_test_split\n",
        "x_train, x_test, y_train, y_test = train_test_split(x, y, test_size = 0.2, random_state = 0)"
      ],
      "metadata": {
        "id": "5jFsjy_qIWjs"
      },
      "execution_count": 8,
      "outputs": []
    },
    {
      "cell_type": "code",
      "source": [
        "from sklearn.linear_model import LinearRegression\n",
        "regressor = LinearRegression()\n",
        "regressor.fit(x_train, y_train)"
      ],
      "metadata": {
        "colab": {
          "base_uri": "https://localhost:8080/"
        },
        "id": "r3mf_MEIJEan",
        "outputId": "00668d1d-3ca5-4ea5-b38e-a0fa96255f90"
      },
      "execution_count": 9,
      "outputs": [
        {
          "output_type": "execute_result",
          "data": {
            "text/plain": [
              "LinearRegression()"
            ]
          },
          "metadata": {},
          "execution_count": 9
        }
      ]
    },
    {
      "cell_type": "code",
      "source": [
        "y_pred = regressor.predict(x_test)"
      ],
      "metadata": {
        "id": "a9a9D9dtJaG7"
      },
      "execution_count": 11,
      "outputs": []
    },
    {
      "cell_type": "code",
      "source": [
        "plt.scatter(x_test, y_test, color = 'red')\n",
        "plt.scatter(x_train, y_train, color = 'green')\n",
        "plt.plot(x_test, y_pred, color = 'blue')\n",
        "plt.xlabel('Date')\n",
        "plt.ylabel('Price')\n",
        "plt.show()"
      ],
      "metadata": {
        "colab": {
          "base_uri": "https://localhost:8080/",
          "height": 279
        },
        "id": "khI41ortJp9E",
        "outputId": "af23d366-eacc-498c-fb20-86f0878a66e0"
      },
      "execution_count": 12,
      "outputs": [
        {
          "output_type": "display_data",
          "data": {
            "text/plain": [
              "<Figure size 432x288 with 1 Axes>"
            ],
            "image/png": "[encoded data removed]"
          },
          "metadata": {
            "needs_background": "light"
          }
        }
      ]
    },
    {
      "cell_type": "code",
      "source": [
        "x_questionbank = dataset.iloc[0:200,0:1].values\n",
        "print(x_questionbank)"
      ],
      "metadata": {
        "colab": {
          "base_uri": "https://localhost:8080/"
        },
        "id": "NFAbo5UkJ9sM",
        "outputId": "394bf64f-3df3-47d4-f6e0-3a2e27818a57"
      },
      "execution_count": 14,
      "outputs": [
        {
          "output_type": "stream",
          "name": "stdout",
          "text": [
            "[[  1.]\n",
            " [  2.]\n",
            " [  3.]\n",
            " [  4.]\n",
            " [  5.]\n",
            " [  6.]\n",
            " [  7.]\n",
            " [  8.]\n",
            " [  9.]\n",
            " [ 10.]\n",
            " [ 11.]\n",
            " [ 12.]\n",
            " [ 13.]\n",
            " [ 14.]\n",
            " [ 15.]\n",
            " [ 16.]\n",
            " [ 17.]\n",
            " [ 18.]\n",
            " [ 19.]\n",
            " [ 20.]\n",
            " [ 21.]\n",
            " [ 22.]\n",
            " [ 23.]\n",
            " [ 24.]\n",
            " [ 25.]\n",
            " [ 26.]\n",
            " [ 27.]\n",
            " [ 28.]\n",
            " [ 29.]\n",
            " [ 30.]\n",
            " [ 31.]\n",
            " [ 32.]\n",
            " [ 33.]\n",
            " [ 34.]\n",
            " [ 35.]\n",
            " [ 36.]\n",
            " [ 37.]\n",
            " [ 38.]\n",
            " [ 39.]\n",
            " [ 40.]\n",
            " [ 41.]\n",
            " [ 42.]\n",
            " [ 43.]\n",
            " [ 44.]\n",
            " [ 45.]\n",
            " [ 46.]\n",
            " [ 47.]\n",
            " [ 48.]\n",
            " [ 49.]\n",
            " [ 50.]\n",
            " [ 51.]\n",
            " [ 52.]\n",
            " [ 53.]\n",
            " [ 54.]\n",
            " [ 55.]\n",
            " [ 56.]\n",
            " [ 57.]\n",
            " [ 58.]\n",
            " [ 59.]\n",
            " [ 60.]\n",
            " [ 61.]\n",
            " [ 62.]\n",
            " [ 63.]\n",
            " [ 64.]\n",
            " [ 65.]\n",
            " [ 66.]\n",
            " [ 67.]\n",
            " [ 68.]\n",
            " [ 69.]\n",
            " [ 70.]\n",
            " [ 71.]\n",
            " [ 72.]\n",
            " [ 73.]\n",
            " [ 74.]\n",
            " [ 75.]\n",
            " [ 76.]\n",
            " [ 77.]\n",
            " [ 78.]\n",
            " [ 79.]\n",
            " [ 80.]\n",
            " [ 81.]\n",
            " [ 82.]\n",
            " [ 83.]\n",
            " [ 84.]\n",
            " [ 85.]\n",
            " [ 86.]\n",
            " [ 87.]\n",
            " [ 88.]\n",
            " [ 89.]\n",
            " [ 90.]\n",
            " [ 91.]\n",
            " [ 92.]\n",
            " [ 93.]\n",
            " [ 94.]\n",
            " [ 95.]\n",
            " [ 96.]\n",
            " [ 97.]\n",
            " [ 98.]\n",
            " [ 99.]\n",
            " [100.]\n",
            " [101.]\n",
            " [102.]\n",
            " [103.]\n",
            " [104.]\n",
            " [105.]\n",
            " [106.]\n",
            " [107.]\n",
            " [108.]\n",
            " [109.]\n",
            " [110.]\n",
            " [111.]\n",
            " [112.]\n",
            " [113.]\n",
            " [114.]\n",
            " [115.]\n",
            " [116.]\n",
            " [117.]\n",
            " [118.]\n",
            " [119.]\n",
            " [120.]\n",
            " [121.]\n",
            " [122.]\n",
            " [123.]\n",
            " [124.]\n",
            " [125.]\n",
            " [126.]\n",
            " [127.]\n",
            " [128.]\n",
            " [129.]\n",
            " [130.]\n",
            " [131.]\n",
            " [132.]\n",
            " [133.]\n",
            " [134.]\n",
            " [135.]\n",
            " [136.]\n",
            " [137.]\n",
            " [138.]\n",
            " [139.]\n",
            " [140.]\n",
            " [141.]\n",
            " [142.]\n",
            " [143.]\n",
            " [144.]\n",
            " [145.]\n",
            " [146.]\n",
            " [147.]\n",
            " [148.]\n",
            " [149.]\n",
            " [150.]\n",
            " [151.]\n",
            " [152.]\n",
            " [153.]\n",
            " [154.]\n",
            " [155.]\n",
            " [156.]\n",
            " [157.]\n",
            " [158.]\n",
            " [159.]\n",
            " [160.]\n",
            " [161.]\n",
            " [162.]\n",
            " [163.]\n",
            " [164.]\n",
            " [165.]\n",
            " [166.]\n",
            " [167.]\n",
            " [168.]\n",
            " [169.]\n",
            " [170.]\n",
            " [171.]\n",
            " [172.]\n",
            " [173.]\n",
            " [174.]\n",
            " [175.]\n",
            " [176.]\n",
            " [177.]\n",
            " [178.]\n",
            " [179.]\n",
            " [180.]\n",
            " [181.]\n",
            " [182.]\n",
            " [183.]\n",
            " [184.]\n",
            " [185.]\n",
            " [186.]\n",
            " [187.]\n",
            " [188.]\n",
            " [189.]\n",
            " [190.]\n",
            " [191.]\n",
            " [192.]\n",
            " [193.]\n",
            " [194.]\n",
            " [195.]\n",
            " [196.]\n",
            " [197.]\n",
            " [198.]\n",
            " [199.]\n",
            " [200.]]\n"
          ]
        }
      ]
    },
    {
      "cell_type": "code",
      "source": [
        "x_test = dataset.iloc[200:249,0:1].values\n",
        "print(x_test)"
      ],
      "metadata": {
        "colab": {
          "base_uri": "https://localhost:8080/"
        },
        "id": "zQWoei1nP-TE",
        "outputId": "fc8eda8d-23b2-48e5-8809-2bf66582eca9"
      },
      "execution_count": 15,
      "outputs": [
        {
          "output_type": "stream",
          "name": "stdout",
          "text": [
            "[[201.]\n",
            " [202.]\n",
            " [203.]\n",
            " [204.]\n",
            " [205.]\n",
            " [206.]\n",
            " [207.]\n",
            " [208.]\n",
            " [209.]\n",
            " [210.]\n",
            " [211.]\n",
            " [212.]\n",
            " [213.]\n",
            " [214.]\n",
            " [215.]\n",
            " [216.]\n",
            " [217.]\n",
            " [218.]\n",
            " [219.]\n",
            " [220.]\n",
            " [221.]\n",
            " [222.]\n",
            " [223.]\n",
            " [224.]\n",
            " [225.]\n",
            " [226.]\n",
            " [227.]\n",
            " [228.]\n",
            " [229.]\n",
            " [230.]\n",
            " [231.]\n",
            " [232.]\n",
            " [233.]\n",
            " [234.]\n",
            " [235.]\n",
            " [236.]\n",
            " [237.]\n",
            " [238.]\n",
            " [239.]\n",
            " [240.]\n",
            " [241.]\n",
            " [242.]\n",
            " [243.]\n",
            " [244.]\n",
            " [245.]\n",
            " [246.]\n",
            " [247.]\n",
            " [248.]\n",
            " [249.]]\n"
          ]
        }
      ]
    },
    {
      "cell_type": "code",
      "source": [
        "y_test = dataset.iloc[200:249,1].values\n",
        "print(y_test)"
      ],
      "metadata": {
        "colab": {
          "base_uri": "https://localhost:8080/"
        },
        "id": "VvIlT_8pQtr3",
        "outputId": "7428a9f2-8e80-4d68-e4ca-d6bfef589275"
      },
      "execution_count": 16,
      "outputs": [
        {
          "output_type": "stream",
          "name": "stdout",
          "text": [
            "[ 95.230003  92.5       89.889999  88.269997  87.510002  85.330002\n",
            "  86.18      85.519997  83.25      84.970001  82.800003  82.870003\n",
            "  83.120003  85.459999  86.550003  85.330002  83.029999  87.459999\n",
            "  87.57      90.93      96.93      94.18      98.68      97.25\n",
            "  94.739998  93.860001  97.559998  96.93      92.559998  98.239998\n",
            "  99.529999 101.089996 101.160004 102.529999 110.25     105.260002\n",
            " 102.93     101.169998 102.040001 101.32      97.559998  97.849998\n",
            "  98.410004  99.089996  99.209999  97.800003  95.339996  95.099998\n",
            "  96.120003]\n"
          ]
        }
      ]
    },
    {
      "cell_type": "code",
      "source": [
        "y_questionbank = dataset.iloc[0:200,1].values\n",
        "print(y_questionbank)"
      ],
      "metadata": {
        "colab": {
          "base_uri": "https://localhost:8080/"
        },
        "id": "jMA-vI3GRDxz",
        "outputId": "a2983aec-f63f-40a2-f0ad-6b107ff8ed42"
      },
      "execution_count": 17,
      "outputs": [
        {
          "output_type": "stream",
          "name": "stdout",
          "text": [
            "[152.425003 152.732498 150.848999 153.531494 147.158997 145.443497\n",
            " 136.683502 139.5      145.684998 149.574493 145.981003 142.850006\n",
            " 148.5      152.640503 156.813004 161.121002 161.805496 163.705002\n",
            " 163.749496 164.       164.975006 170.384003 168.509506 166.445007\n",
            " 164.149506 164.125    167.741501 161.650497 158.399994 156.75\n",
            " 152.712997 153.692505 150.018494 155.389999 151.523499 152.029495\n",
            " 157.602493 154.714005 148.25     144.022995 144.800003 140.191498\n",
            " 142.177994 129.848999 122.401001 124.053497 123.599998 123.\n",
            " 114.849998 111.3125   111.25     108.1035   102.75     109.069\n",
            " 113.099998 113.275002 111.439499 106.280502 109.568497 108.460999\n",
            " 104.025002 103.655502 107.970001 113.550003 116.279999 122.255997\n",
            " 121.683998 124.199997 125.25     122.010002 122.610001 119.989998\n",
            " 113.419998 104.190002 104.190002 103.860001 104.470001 102.800003\n",
            " 108.199997 107.43     110.389999 112.379997 117.089996 113.5\n",
            " 107.379997 108.110001 106.290001 107.599998 113.209999 113.849998\n",
            " 114.599998 114.080002 112.160004 107.029999 110.239998 112.5\n",
            " 115.       115.699997 118.620003 123.199997 125.010002 122.699997\n",
            " 115.790001 117.309998 121.57     134.899994 134.960007 134.720001\n",
            " 136.210007 140.580002 140.100006 142.050003 138.050003 142.899994\n",
            " 143.860001 142.050003 142.800003 143.910004 142.690002 141.320007\n",
            " 140.470001 135.720001 133.410004 132.75     135.259995 136.550003\n",
            " 129.899994 131.25     129.449997 126.       129.5      127.919998\n",
            " 126.120003 127.720001 130.910004 134.100006 131.009995 127.360001\n",
            " 127.379997 122.779999 122.160004 123.349998 122.489998 117.080002\n",
            " 116.       113.300003 117.199997 114.379997 115.599998 114.080002\n",
            " 113.580002 119.889999 118.580002 120.769997 118.       115.099998\n",
            " 112.709999 112.489998 107.879997 114.099998 110.110001 119.059998\n",
            " 114.709999 113.830002 114.790001 119.980003 119.650002 116.\n",
            " 113.919998  97.910004 103.559998 103.989998  97.32      92.470001\n",
            "  91.489998  91.949997  90.790001  89.470001  92.940002  97.879997\n",
            "  98.769997 103.209999  96.849998  95.370003  95.949997  93.970001\n",
            "  92.620003  93.239998  93.790001  93.93      94.040001  92.470001\n",
            "  96.989998  94.480003  93.050003  90.5       88.339996  89.239998\n",
            "  88.900002  89.209999]\n"
          ]
        }
      ]
    },
    {
      "cell_type": "code",
      "source": [
        "from sklearn.linear_model import LinearRegression\n",
        "regressor = LinearRegression()\n",
        "regressor.fit(x_questionbank, y_questionbank)"
      ],
      "metadata": {
        "colab": {
          "base_uri": "https://localhost:8080/"
        },
        "id": "dRf7zYC7RSwC",
        "outputId": "f9f28f0e-ec0c-45fb-fbf3-664932aeaa66"
      },
      "execution_count": 18,
      "outputs": [
        {
          "output_type": "execute_result",
          "data": {
            "text/plain": [
              "LinearRegression()"
            ]
          },
          "metadata": {},
          "execution_count": 18
        }
      ]
    },
    {
      "cell_type": "code",
      "source": [
        "regressor.predict(x_test)"
      ],
      "metadata": {
        "colab": {
          "base_uri": "https://localhost:8080/"
        },
        "id": "_A8rn1GgRhzK",
        "outputId": "ee09db15-a25b-44c1-cadc-ca46025ba2d4"
      },
      "execution_count": 19,
      "outputs": [
        {
          "output_type": "execute_result",
          "data": {
            "text/plain": [
              "array([98.01921477, 97.76632843, 97.51344208, 97.26055574, 97.00766939,\n",
              "       96.75478305, 96.5018967 , 96.24901036, 95.99612401, 95.74323767,\n",
              "       95.49035132, 95.23746498, 94.98457863, 94.73169229, 94.47880594,\n",
              "       94.2259196 , 93.97303325, 93.72014691, 93.46726056, 93.21437422,\n",
              "       92.96148787, 92.70860152, 92.45571518, 92.20282883, 91.94994249,\n",
              "       91.69705614, 91.4441698 , 91.19128345, 90.93839711, 90.68551076,\n",
              "       90.43262442, 90.17973807, 89.92685173, 89.67396538, 89.42107904,\n",
              "       89.16819269, 88.91530635, 88.66242   , 88.40953366, 88.15664731,\n",
              "       87.90376097, 87.65087462, 87.39798828, 87.14510193, 86.89221559,\n",
              "       86.63932924, 86.3864429 , 86.13355655, 85.88067021])"
            ]
          },
          "metadata": {},
          "execution_count": 19
        }
      ]
    },
    {
      "cell_type": "code",
      "source": [
        "plt.scatter(x_questionbank, y_questionbank, color = 'green')\n",
        "plt.scatter(x_test, y_test, color = 'blue')\n",
        "plt.plot(x_test, regressor.predict(x_test), color = 'red')\n",
        "plt.xlabel('Date')\n",
        "plt.ylabel('Price')\n",
        "plt.show()"
      ],
      "metadata": {
        "colab": {
          "base_uri": "https://localhost:8080/",
          "height": 279
        },
        "id": "hWVR5WzMRn1B",
        "outputId": "791470cf-ae69-4e6f-b7e5-7ca2a2682e04"
      },
      "execution_count": 20,
      "outputs": [
        {
          "output_type": "display_data",
          "data": {
            "text/plain": [
              "<Figure size 432x288 with 1 Axes>"
            ],
            "image/png": "[encoded data removed]"
          },
          "metadata": {
            "needs_background": "light"
          }
        }
      ]
    }
  ]
}